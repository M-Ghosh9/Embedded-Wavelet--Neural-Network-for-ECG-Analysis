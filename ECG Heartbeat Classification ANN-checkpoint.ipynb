{
 "cells": [
  {
   "cell_type": "code",
   "execution_count": 1,
   "id": "7d72a469",
   "metadata": {},
   "outputs": [],
   "source": [
    "import numpy as np\n",
    "import pandas as pd\n",
    "import seaborn as sns\n",
    "import matplotlib.pyplot as plt\n",
    "from sklearn.metrics import classification_report\n",
    "from sklearn.model_selection import train_test_split\n",
    "from sklearn.metrics import f1_score\n",
    "from sklearn.metrics import confusion_matrix\n",
    "from keras.utils.np_utils import to_categorical\n",
    "from sklearn.utils import class_weight\n",
    "import tensorflow as tf"
   ]
  },
  {
   "cell_type": "code",
   "execution_count": 2,
   "id": "9f0d78db",
   "metadata": {},
   "outputs": [
    {
     "data": {
      "text/html": [
       "<div>\n",
       "<style scoped>\n",
       "    .dataframe tbody tr th:only-of-type {\n",
       "        vertical-align: middle;\n",
       "    }\n",
       "\n",
       "    .dataframe tbody tr th {\n",
       "        vertical-align: top;\n",
       "    }\n",
       "\n",
       "    .dataframe thead th {\n",
       "        text-align: right;\n",
       "    }\n",
       "</style>\n",
       "<table border=\"1\" class=\"dataframe\">\n",
       "  <thead>\n",
       "    <tr style=\"text-align: right;\">\n",
       "      <th></th>\n",
       "      <th>0</th>\n",
       "      <th>1</th>\n",
       "      <th>2</th>\n",
       "      <th>3</th>\n",
       "      <th>4</th>\n",
       "      <th>5</th>\n",
       "      <th>6</th>\n",
       "      <th>7</th>\n",
       "      <th>8</th>\n",
       "      <th>9</th>\n",
       "      <th>...</th>\n",
       "      <th>178</th>\n",
       "      <th>179</th>\n",
       "      <th>180</th>\n",
       "      <th>181</th>\n",
       "      <th>182</th>\n",
       "      <th>183</th>\n",
       "      <th>184</th>\n",
       "      <th>185</th>\n",
       "      <th>186</th>\n",
       "      <th>187</th>\n",
       "    </tr>\n",
       "  </thead>\n",
       "  <tbody>\n",
       "    <tr>\n",
       "      <th>0</th>\n",
       "      <td>0.977941</td>\n",
       "      <td>0.926471</td>\n",
       "      <td>0.681373</td>\n",
       "      <td>0.245098</td>\n",
       "      <td>0.154412</td>\n",
       "      <td>0.191176</td>\n",
       "      <td>0.151961</td>\n",
       "      <td>0.085784</td>\n",
       "      <td>0.058824</td>\n",
       "      <td>0.049020</td>\n",
       "      <td>...</td>\n",
       "      <td>0.0</td>\n",
       "      <td>0.0</td>\n",
       "      <td>0.0</td>\n",
       "      <td>0.0</td>\n",
       "      <td>0.0</td>\n",
       "      <td>0.0</td>\n",
       "      <td>0.0</td>\n",
       "      <td>0.0</td>\n",
       "      <td>0.0</td>\n",
       "      <td>0.0</td>\n",
       "    </tr>\n",
       "    <tr>\n",
       "      <th>1</th>\n",
       "      <td>0.960114</td>\n",
       "      <td>0.863248</td>\n",
       "      <td>0.461538</td>\n",
       "      <td>0.196581</td>\n",
       "      <td>0.094017</td>\n",
       "      <td>0.125356</td>\n",
       "      <td>0.099715</td>\n",
       "      <td>0.088319</td>\n",
       "      <td>0.074074</td>\n",
       "      <td>0.082621</td>\n",
       "      <td>...</td>\n",
       "      <td>0.0</td>\n",
       "      <td>0.0</td>\n",
       "      <td>0.0</td>\n",
       "      <td>0.0</td>\n",
       "      <td>0.0</td>\n",
       "      <td>0.0</td>\n",
       "      <td>0.0</td>\n",
       "      <td>0.0</td>\n",
       "      <td>0.0</td>\n",
       "      <td>0.0</td>\n",
       "    </tr>\n",
       "    <tr>\n",
       "      <th>2</th>\n",
       "      <td>1.000000</td>\n",
       "      <td>0.659459</td>\n",
       "      <td>0.186486</td>\n",
       "      <td>0.070270</td>\n",
       "      <td>0.070270</td>\n",
       "      <td>0.059459</td>\n",
       "      <td>0.056757</td>\n",
       "      <td>0.043243</td>\n",
       "      <td>0.054054</td>\n",
       "      <td>0.045946</td>\n",
       "      <td>...</td>\n",
       "      <td>0.0</td>\n",
       "      <td>0.0</td>\n",
       "      <td>0.0</td>\n",
       "      <td>0.0</td>\n",
       "      <td>0.0</td>\n",
       "      <td>0.0</td>\n",
       "      <td>0.0</td>\n",
       "      <td>0.0</td>\n",
       "      <td>0.0</td>\n",
       "      <td>0.0</td>\n",
       "    </tr>\n",
       "    <tr>\n",
       "      <th>3</th>\n",
       "      <td>0.925414</td>\n",
       "      <td>0.665746</td>\n",
       "      <td>0.541436</td>\n",
       "      <td>0.276243</td>\n",
       "      <td>0.196133</td>\n",
       "      <td>0.077348</td>\n",
       "      <td>0.071823</td>\n",
       "      <td>0.060773</td>\n",
       "      <td>0.066298</td>\n",
       "      <td>0.058011</td>\n",
       "      <td>...</td>\n",
       "      <td>0.0</td>\n",
       "      <td>0.0</td>\n",
       "      <td>0.0</td>\n",
       "      <td>0.0</td>\n",
       "      <td>0.0</td>\n",
       "      <td>0.0</td>\n",
       "      <td>0.0</td>\n",
       "      <td>0.0</td>\n",
       "      <td>0.0</td>\n",
       "      <td>0.0</td>\n",
       "    </tr>\n",
       "    <tr>\n",
       "      <th>4</th>\n",
       "      <td>0.967136</td>\n",
       "      <td>1.000000</td>\n",
       "      <td>0.830986</td>\n",
       "      <td>0.586854</td>\n",
       "      <td>0.356808</td>\n",
       "      <td>0.248826</td>\n",
       "      <td>0.145540</td>\n",
       "      <td>0.089202</td>\n",
       "      <td>0.117371</td>\n",
       "      <td>0.150235</td>\n",
       "      <td>...</td>\n",
       "      <td>0.0</td>\n",
       "      <td>0.0</td>\n",
       "      <td>0.0</td>\n",
       "      <td>0.0</td>\n",
       "      <td>0.0</td>\n",
       "      <td>0.0</td>\n",
       "      <td>0.0</td>\n",
       "      <td>0.0</td>\n",
       "      <td>0.0</td>\n",
       "      <td>0.0</td>\n",
       "    </tr>\n",
       "  </tbody>\n",
       "</table>\n",
       "<p>5 rows × 188 columns</p>\n",
       "</div>"
      ],
      "text/plain": [
       "        0         1         2         3         4         5         6    \\\n",
       "0  0.977941  0.926471  0.681373  0.245098  0.154412  0.191176  0.151961   \n",
       "1  0.960114  0.863248  0.461538  0.196581  0.094017  0.125356  0.099715   \n",
       "2  1.000000  0.659459  0.186486  0.070270  0.070270  0.059459  0.056757   \n",
       "3  0.925414  0.665746  0.541436  0.276243  0.196133  0.077348  0.071823   \n",
       "4  0.967136  1.000000  0.830986  0.586854  0.356808  0.248826  0.145540   \n",
       "\n",
       "        7         8         9    ...  178  179  180  181  182  183  184  185  \\\n",
       "0  0.085784  0.058824  0.049020  ...  0.0  0.0  0.0  0.0  0.0  0.0  0.0  0.0   \n",
       "1  0.088319  0.074074  0.082621  ...  0.0  0.0  0.0  0.0  0.0  0.0  0.0  0.0   \n",
       "2  0.043243  0.054054  0.045946  ...  0.0  0.0  0.0  0.0  0.0  0.0  0.0  0.0   \n",
       "3  0.060773  0.066298  0.058011  ...  0.0  0.0  0.0  0.0  0.0  0.0  0.0  0.0   \n",
       "4  0.089202  0.117371  0.150235  ...  0.0  0.0  0.0  0.0  0.0  0.0  0.0  0.0   \n",
       "\n",
       "   186  187  \n",
       "0  0.0  0.0  \n",
       "1  0.0  0.0  \n",
       "2  0.0  0.0  \n",
       "3  0.0  0.0  \n",
       "4  0.0  0.0  \n",
       "\n",
       "[5 rows x 188 columns]"
      ]
     },
     "execution_count": 2,
     "metadata": {},
     "output_type": "execute_result"
    }
   ],
   "source": [
    "df_train=pd.read_csv(\"mitbih_train.csv\",header=None)\n",
    "df_test=pd.read_csv(\"mitbih_test.csv\",header=None)\n",
    "df_train.head()"
   ]
  },
  {
   "cell_type": "code",
   "execution_count": 3,
   "id": "a514a7ac",
   "metadata": {},
   "outputs": [
    {
     "data": {
      "text/plain": [
       "0.0    72471\n",
       "4.0     6431\n",
       "2.0     5788\n",
       "1.0     2223\n",
       "3.0      641\n",
       "Name: 187, dtype: int64"
      ]
     },
     "execution_count": 3,
     "metadata": {},
     "output_type": "execute_result"
    }
   ],
   "source": [
    "df_train[187].value_counts()"
   ]
  },
  {
   "cell_type": "markdown",
   "id": "e2f2636c",
   "metadata": {},
   "source": [
    "### Visualize the training set"
   ]
  },
  {
   "cell_type": "code",
   "execution_count": 4,
   "id": "4ee54a58",
   "metadata": {},
   "outputs": [
    {
     "data": {
      "image/png": "[encoded data removed]",
      "text/plain": [
       "<Figure size 720x720 with 1 Axes>"
      ]
     },
     "metadata": {},
     "output_type": "display_data"
    }
   ],
   "source": [
    "per_class=df_train[187].value_counts()\n",
    "plt.figure(figsize=(10,10))\n",
    "my_circle=plt.Circle( (0,0), 0.7, color='white')\n",
    "plt.pie(per_class, labels=['normal beats','unknown beats','ventricular ectopic beats','supraventricular ectopic beats',\n",
    "                           'fusion beats'], colors=['red','green','blue','skyblue','orange'],autopct='%1.1f%%')\n",
    "p=plt.gcf()\n",
    "p.gca().add_artist(my_circle)\n",
    "plt.show()"
   ]
  },
  {
   "cell_type": "markdown",
   "id": "f49459e8",
   "metadata": {},
   "source": [
    "### Resampling 20000 \"normal beats\" because majority of dataset is normal beats"
   ]
  },
  {
   "cell_type": "code",
   "execution_count": 5,
   "id": "ac364178",
   "metadata": {},
   "outputs": [],
   "source": [
    "from sklearn.utils import resample"
   ]
  },
  {
   "cell_type": "code",
   "execution_count": 6,
   "id": "0b49e3d1",
   "metadata": {},
   "outputs": [],
   "source": [
    "d1=df_train[df_train[187]==1]\n",
    "d2=df_train[df_train[187]==2]\n",
    "d3=df_train[df_train[187]==3]\n",
    "d4=df_train[df_train[187]==4]\n",
    "\n",
    "d0=df_train[df_train[187]==0].sample(n=20000,random_state=42)"
   ]
  },
  {
   "cell_type": "code",
   "execution_count": 7,
   "id": "d8ce2886",
   "metadata": {},
   "outputs": [],
   "source": [
    "d1_upsampled=resample(d1,replace=True,n_samples=20000,random_state=123)\n",
    "d2_upsampled=resample(d2,replace=True,n_samples=20000,random_state=123)\n",
    "d3_upsampled=resample(d3,replace=True,n_samples=20000,random_state=123)\n",
    "d4_upsampled=resample(d4,replace=True,n_samples=20000,random_state=123)"
   ]
  },
  {
   "cell_type": "code",
   "execution_count": 8,
   "id": "e7c92b9a",
   "metadata": {},
   "outputs": [],
   "source": [
    "df_train=pd.concat([d0,d1_upsampled,d2_upsampled,d3_upsampled,d4_upsampled])"
   ]
  },
  {
   "cell_type": "markdown",
   "id": "5f24b52f",
   "metadata": {},
   "source": [
    "### Testing the resample by visualizing the data"
   ]
  },
  {
   "cell_type": "code",
   "execution_count": 9,
   "id": "77c8758b",
   "metadata": {},
   "outputs": [
    {
     "data": {
      "image/png": "[encoded data removed]",
      "text/plain": [
       "<Figure size 1440x720 with 1 Axes>"
      ]
     },
     "metadata": {},
     "output_type": "display_data"
    }
   ],
   "source": [
    "per_class=df_train[187].value_counts()\n",
    "plt.figure(figsize=(20,10))\n",
    "circle=plt.Circle( (0,0), 0.8, color='white')\n",
    "cmap=plt.get_cmap(\"tab20c\")\n",
    "plt.pie(per_class, labels=['normal beats','unknown beats','ventricular ectopic beats','supraventricular ectopic beats',\n",
    "                           'fusion beats'], colors=['red','green','blue','skyblue','orange'],autopct='%.2f%%')\n",
    "p=plt.gcf()\n",
    "p.gca().add_artist(circle)\n",
    "plt.show()"
   ]
  },
  {
   "cell_type": "code",
   "execution_count": 10,
   "id": "c8b62352",
   "metadata": {},
   "outputs": [],
   "source": [
    "classes=df_train.groupby(187,group_keys=False).apply(lambda train:train.sample(1))"
   ]
  },
  {
   "cell_type": "code",
   "execution_count": 11,
   "id": "53cfd6ca",
   "metadata": {},
   "outputs": [],
   "source": [
    "categories=[\"Normal beat\",\"Unknown beats\",\"Ventricular Ectopic beats\",\"Supraventricular Ectopic beats\",\"Fusion beats\"]"
   ]
  },
  {
   "cell_type": "markdown",
   "id": "6bf633b6",
   "metadata": {},
   "source": [
    "### Add gaussian noise to signals for a more realistic appraoch"
   ]
  },
  {
   "cell_type": "code",
   "execution_count": 12,
   "id": "7a08ec59",
   "metadata": {},
   "outputs": [
    {
     "data": {
      "image/png": "[encoded data removed]",
      "text/plain": [
       "<Figure size 432x288 with 2 Axes>"
      ]
     },
     "metadata": {
      "needs_background": "light"
     },
     "output_type": "display_data"
    }
   ],
   "source": [
    "def gaussian_noise(signal):\n",
    "    noise=np.random.normal(0,0.05,186)\n",
    "    return(signal+noise)\n",
    "temp=classes.iloc[0, :186]\n",
    "bruiter=gaussian_noise(temp)\n",
    "\n",
    "plt.subplot(2,1,1)\n",
    "plt.plot(classes.iloc[0, :186])\n",
    "\n",
    "plt.subplot(2,1,2)\n",
    "plt.plot(bruiter)\n",
    "\n",
    "plt.show()"
   ]
  },
  {
   "cell_type": "code",
   "execution_count": 13,
   "id": "a5666306",
   "metadata": {},
   "outputs": [],
   "source": [
    "target_train=df_train[187]\n",
    "target_test=df_test[187]\n",
    "y_train=to_categorical(target_train)\n",
    "y_test=to_categorical(target_test)\n",
    "x_train=df_train.iloc[:,:186].values\n",
    "x_test=df_test.iloc[:,:186].values\n",
    "x_train_cnn=x_train.reshape(len(x_train),x_train.shape[1],1)\n",
    "x_test_cnn=x_test.reshape(len(x_test),x_test.shape[1],1)"
   ]
  },
  {
   "cell_type": "code",
   "execution_count": 14,
   "id": "8da20827",
   "metadata": {},
   "outputs": [],
   "source": [
    "model_ann=tf.keras.models.Sequential()\n",
    "model_ann.add(tf.keras.layers.Dense(20,activation=tf.keras.layers.LeakyReLU(alpha=0.001),input_shape=(186,)))\n",
    "model_ann.add(tf.keras.layers.Dense(20,activation=tf.keras.layers.LeakyReLU(alpha=0.001)))\n",
    "model_ann.add(tf.keras.layers.Dense(20,activation=tf.keras.layers.LeakyReLU(alpha=0.001)))\n",
    "model_ann.add(tf.keras.layers.Dense(20,activation=tf.keras.layers.LeakyReLU(alpha=0.001)))\n",
    "\n",
    "model_ann.add(tf.keras.layers.Dense(5,activation='softmax'))"
   ]
  },
  {
   "cell_type": "code",
   "execution_count": 15,
   "id": "a11a0767",
   "metadata": {
    "scrolled": false
   },
   "outputs": [
    {
     "name": "stdout",
     "output_type": "stream",
     "text": [
      "Epoch 1/20\n",
      "10000/10000 [==============================] - 23s 2ms/step - loss: 0.4881 - accuracy: 0.8162 - val_loss: 0.5315 - val_accuracy: 0.8035\n",
      "Epoch 2/20\n",
      "10000/10000 [==============================] - 23s 2ms/step - loss: 0.3111 - accuracy: 0.8855 - val_loss: 0.3607 - val_accuracy: 0.8673\n",
      "Epoch 3/20\n",
      "10000/10000 [==============================] - 23s 2ms/step - loss: 0.2594 - accuracy: 0.9054 - val_loss: 0.4829 - val_accuracy: 0.8237\n",
      "Epoch 4/20\n",
      "10000/10000 [==============================] - 24s 2ms/step - loss: 0.2280 - accuracy: 0.9174 - val_loss: 0.2952 - val_accuracy: 0.8997\n",
      "Epoch 5/20\n",
      "10000/10000 [==============================] - 19s 2ms/step - loss: 0.2073 - accuracy: 0.9251 - val_loss: 0.3624 - val_accuracy: 0.8695\n",
      "Epoch 6/20\n",
      "10000/10000 [==============================] - 20s 2ms/step - loss: 0.1925 - accuracy: 0.9305 - val_loss: 0.3589 - val_accuracy: 0.8674\n",
      "Epoch 7/20\n",
      "10000/10000 [==============================] - 20s 2ms/step - loss: 0.1799 - accuracy: 0.9359 - val_loss: 0.3108 - val_accuracy: 0.8968\n",
      "Epoch 8/20\n",
      "10000/10000 [==============================] - 21s 2ms/step - loss: 0.1688 - accuracy: 0.9402 - val_loss: 0.3356 - val_accuracy: 0.8766\n",
      "Epoch 9/20\n",
      "10000/10000 [==============================] - 18s 2ms/step - loss: 0.1631 - accuracy: 0.9420 - val_loss: 0.3201 - val_accuracy: 0.8894\n",
      "Epoch 10/20\n",
      "10000/10000 [==============================] - 20s 2ms/step - loss: 0.1548 - accuracy: 0.9455 - val_loss: 0.3739 - val_accuracy: 0.8689\n",
      "Epoch 11/20\n",
      "10000/10000 [==============================] - 18s 2ms/step - loss: 0.1500 - accuracy: 0.9472 - val_loss: 0.3456 - val_accuracy: 0.8706\n",
      "Epoch 12/20\n",
      "10000/10000 [==============================] - 18s 2ms/step - loss: 0.1441 - accuracy: 0.9493 - val_loss: 0.3113 - val_accuracy: 0.8998\n",
      "Epoch 13/20\n",
      "10000/10000 [==============================] - 18s 2ms/step - loss: 0.1392 - accuracy: 0.9509 - val_loss: 0.2725 - val_accuracy: 0.9104\n",
      "Epoch 14/20\n",
      "10000/10000 [==============================] - 19s 2ms/step - loss: 0.1342 - accuracy: 0.9535 - val_loss: 0.2548 - val_accuracy: 0.9193\n",
      "Epoch 15/20\n",
      "10000/10000 [==============================] - 18s 2ms/step - loss: 0.1320 - accuracy: 0.9547 - val_loss: 0.3059 - val_accuracy: 0.8989\n",
      "Epoch 16/20\n",
      "10000/10000 [==============================] - 18s 2ms/step - loss: 0.1274 - accuracy: 0.9561 - val_loss: 0.2653 - val_accuracy: 0.9160\n",
      "Epoch 17/20\n",
      "10000/10000 [==============================] - 20s 2ms/step - loss: 0.1248 - accuracy: 0.9563 - val_loss: 0.3149 - val_accuracy: 0.8966\n",
      "Epoch 18/20\n",
      "10000/10000 [==============================] - 19s 2ms/step - loss: 0.1216 - accuracy: 0.9581 - val_loss: 0.2628 - val_accuracy: 0.9161\n",
      "Epoch 19/20\n",
      "10000/10000 [==============================] - 18s 2ms/step - loss: 0.1216 - accuracy: 0.9583 - val_loss: 0.2742 - val_accuracy: 0.9121\n",
      "Epoch 20/20\n",
      "10000/10000 [==============================] - 19s 2ms/step - loss: 0.1186 - accuracy: 0.9583 - val_loss: 0.2530 - val_accuracy: 0.9218\n"
     ]
    }
   ],
   "source": [
    "model_ann.compile(loss='categorical_crossentropy', optimizer='adam',metrics=['accuracy'])\n",
    "ann_model_history=model_ann.fit(x_train,y_train,epochs=20,batch_size=10,validation_data=(x_test,y_test))"
   ]
  },
  {
   "cell_type": "code",
   "execution_count": 16,
   "id": "64dc69f6",
   "metadata": {},
   "outputs": [
    {
     "name": "stdout",
     "output_type": "stream",
     "text": [
      "685/685 [==============================] - 1s 1ms/step - loss: 0.2530 - accuracy: 0.9218\n"
     ]
    },
    {
     "data": {
      "text/plain": [
       "[0.2529538571834564, 0.9218435883522034]"
      ]
     },
     "execution_count": 16,
     "metadata": {},
     "output_type": "execute_result"
    }
   ],
   "source": [
    "model_ann.evaluate(x_test,y_test)"
   ]
  },
  {
   "cell_type": "markdown",
   "id": "6c8cad8c",
   "metadata": {},
   "source": [
    "### Building model"
   ]
  },
  {
   "cell_type": "code",
   "execution_count": 17,
   "id": "2041d230",
   "metadata": {},
   "outputs": [],
   "source": [
    "from keras.models import Sequential\n",
    "from keras.layers import Dense\n",
    "from keras.layers import Conv1D,MaxPooling1D, Flatten\n",
    "from keras.optimizers import Adam\n",
    "#from keras.layers.normalization import BatchNormalization"
   ]
  },
  {
   "cell_type": "code",
   "execution_count": 18,
   "id": "27de6567",
   "metadata": {},
   "outputs": [],
   "source": [
    "def build_model():\n",
    "    model=Sequential()\n",
    "    m_shape=(x_train_cnn.shape[1],1)\n",
    "    model.add(Conv1D(filters=64,kernel_size=6,activation='relu', padding='same', input_shape=m_shape))\n",
    "    model.add(MaxPooling1D(pool_size=(3),strides=(2),padding='same'))\n",
    "    \n",
    "    model.add(Conv1D(filters=64,kernel_size=6,activation='relu', padding='same', input_shape=m_shape))\n",
    "    model.add(MaxPooling1D(pool_size=(3),strides=(2),padding='same'))\n",
    "    \n",
    "    model.add(Conv1D(filters=64,kernel_size=6,activation='relu', padding='same', input_shape=m_shape))\n",
    "    model.add(MaxPooling1D(pool_size=(3),strides=(2),padding='same'))\n",
    "    \n",
    "    model.add(Flatten())\n",
    "    model.add(Dense(units=64, activation='relu'))\n",
    "    model.add(Dense(units=64, activation='relu'))\n",
    "    model.add(Dense(units=5, activation='softmax'))\n",
    "    \n",
    "    model.compile(optimizer='Adam', loss='categorical_crossentropy', metrics=['accuracy'])\n",
    "    return model\n",
    "    "
   ]
  },
  {
   "cell_type": "code",
   "execution_count": 19,
   "id": "9cb03a9c",
   "metadata": {},
   "outputs": [],
   "source": [
    "modelcnn=build_model()"
   ]
  },
  {
   "cell_type": "code",
   "execution_count": 20,
   "id": "1261928e",
   "metadata": {},
   "outputs": [
    {
     "name": "stdout",
     "output_type": "stream",
     "text": [
      "Epoch 1/20\n",
      "3125/3125 [==============================] - 62s 20ms/step - loss: 0.2515 - accuracy: 0.9086 - val_loss: 0.2935 - val_accuracy: 0.8954\n",
      "Epoch 2/20\n",
      "3125/3125 [==============================] - 59s 19ms/step - loss: 0.0883 - accuracy: 0.9698 - val_loss: 0.1635 - val_accuracy: 0.9483\n",
      "Epoch 3/20\n",
      "3125/3125 [==============================] - 61s 19ms/step - loss: 0.0578 - accuracy: 0.9803 - val_loss: 0.1402 - val_accuracy: 0.9557\n",
      "Epoch 4/20\n",
      "3125/3125 [==============================] - 59s 19ms/step - loss: 0.0421 - accuracy: 0.9862 - val_loss: 0.1534 - val_accuracy: 0.9544\n",
      "Epoch 5/20\n",
      "3125/3125 [==============================] - 55s 18ms/step - loss: 0.0352 - accuracy: 0.9886 - val_loss: 0.1105 - val_accuracy: 0.9724\n",
      "Epoch 6/20\n",
      "3125/3125 [==============================] - 59s 19ms/step - loss: 0.0297 - accuracy: 0.9905 - val_loss: 0.1234 - val_accuracy: 0.9717\n",
      "Epoch 7/20\n",
      "3125/3125 [==============================] - 57s 18ms/step - loss: 0.0256 - accuracy: 0.9917 - val_loss: 0.1237 - val_accuracy: 0.9727\n",
      "Epoch 8/20\n",
      "3125/3125 [==============================] - 56s 18ms/step - loss: 0.0224 - accuracy: 0.9926 - val_loss: 0.1274 - val_accuracy: 0.9750\n",
      "Epoch 9/20\n",
      "3125/3125 [==============================] - 56s 18ms/step - loss: 0.0208 - accuracy: 0.9936 - val_loss: 0.1335 - val_accuracy: 0.9711\n",
      "Epoch 10/20\n",
      "3125/3125 [==============================] - 55s 18ms/step - loss: 0.0175 - accuracy: 0.9945 - val_loss: 0.1412 - val_accuracy: 0.9721\n",
      "Epoch 11/20\n",
      "3125/3125 [==============================] - 56s 18ms/step - loss: 0.0164 - accuracy: 0.9949 - val_loss: 0.1390 - val_accuracy: 0.9715\n",
      "Epoch 12/20\n",
      "3125/3125 [==============================] - 56s 18ms/step - loss: 0.0171 - accuracy: 0.9950 - val_loss: 0.1311 - val_accuracy: 0.9786\n",
      "Epoch 13/20\n",
      "3125/3125 [==============================] - 55s 18ms/step - loss: 0.0151 - accuracy: 0.9955 - val_loss: 0.1467 - val_accuracy: 0.9763\n",
      "Epoch 14/20\n",
      "3125/3125 [==============================] - 56s 18ms/step - loss: 0.0139 - accuracy: 0.9959 - val_loss: 0.1751 - val_accuracy: 0.9665\n",
      "Epoch 15/20\n",
      "3125/3125 [==============================] - 56s 18ms/step - loss: 0.0137 - accuracy: 0.9960 - val_loss: 0.1428 - val_accuracy: 0.9757\n",
      "Epoch 16/20\n",
      "3125/3125 [==============================] - 55s 18ms/step - loss: 0.0124 - accuracy: 0.9963 - val_loss: 0.1795 - val_accuracy: 0.9656\n",
      "Epoch 17/20\n",
      "3125/3125 [==============================] - 63s 20ms/step - loss: 0.0118 - accuracy: 0.9962 - val_loss: 0.1417 - val_accuracy: 0.9787\n",
      "Epoch 18/20\n",
      "3125/3125 [==============================] - 62s 20ms/step - loss: 0.0119 - accuracy: 0.9965 - val_loss: 0.1761 - val_accuracy: 0.9707\n",
      "Epoch 19/20\n",
      "3125/3125 [==============================] - 64s 20ms/step - loss: 0.0098 - accuracy: 0.9970 - val_loss: 0.1867 - val_accuracy: 0.9717\n",
      "Epoch 20/20\n",
      "3125/3125 [==============================] - 63s 20ms/step - loss: 0.0098 - accuracy: 0.9970 - val_loss: 0.1650 - val_accuracy: 0.9781\n"
     ]
    }
   ],
   "source": [
    "modelrun=modelcnn.fit(x_train_cnn,y_train,epochs=20, batch_size=32,validation_data=(x_test_cnn,y_test))"
   ]
  },
  {
   "cell_type": "code",
   "execution_count": 21,
   "id": "a872901e",
   "metadata": {},
   "outputs": [],
   "source": [
    "def network(X_train,y_train,x_test,y_test):\n",
    "    \n",
    "\n",
    "    im_shape=(x_train.shape[1],1)\n",
    "    inputs_cnn=Input(shape=(im_shape), name='inputs_cnn')\n",
    "    conv1_1=Convolution1D(64, (6), activation='relu', input_shape=im_shape)(inputs_cnn)\n",
    "    conv1_1=BatchNormalization()(conv1_1)\n",
    "    pool1=MaxPool1D(pool_size=(3), strides=(2), padding=\"same\")(conv1_1)\n",
    "    conv2_1=Convolution1D(64, (3), activation='relu', input_shape=im_shape)(pool1)\n",
    "    conv2_1=BatchNormalization()(conv2_1)\n",
    "    pool2=MaxPool1D(pool_size=(2), strides=(2), padding=\"same\")(conv2_1)\n",
    "    conv3_1=Convolution1D(64, (3), activation='relu', input_shape=im_shape)(pool2)\n",
    "    conv3_1=BatchNormalization()(conv3_1)\n",
    "    pool3=MaxPool1D(pool_size=(2), strides=(2), padding=\"same\")(conv3_1)\n",
    "    flatten=Flatten()(pool3)\n",
    "    dense_end1 = Dense(64, activation='relu')(flatten)\n",
    "    dense_end2 = Dense(32, activation='relu')(dense_end1)\n",
    "    main_output = Dense(5, activation='softmax', name='main_output')(dense_end2)\n",
    "    \n",
    "    \n",
    "    model = Model(inputs= inputs_cnn, outputs=main_output)\n",
    "    model.compile(optimizer='adam', loss='categorical_crossentropy',metrics = ['accuracy'])\n",
    "    \n",
    "    callbacks = [EarlyStopping(monitor='val_loss', patience=8),\n",
    "             ModelCheckpoint(filepath='best_model.h5', monitor='val_loss', save_best_only=True)]\n",
    "\n",
    "    history=model.fit(x_train, y_train,epochs=40,callbacks=callbacks, batch_size=32,validation_data=(x_test,y_test))\n",
    "    model.load_weights('best_model.h5')\n",
    "    return(model,history)"
   ]
  },
  {
   "cell_type": "code",
   "execution_count": 22,
   "id": "e229846a",
   "metadata": {},
   "outputs": [],
   "source": [
    "def evaluate_model(history,x_test,y_test,model):\n",
    "    scores = model.evaluate((x_test),y_test, verbose=0)\n",
    "    print(\"Accuracy: %.2f%%\" % (scores[1]*100))\n",
    "    \n",
    "    print(history)\n",
    "    fig1, ax_acc = plt.subplots()\n",
    "    plt.plot(history.history['accuracy'])\n",
    "    plt.plot(history.history['val_accuracy'])\n",
    "    plt.xlabel('Epoch')\n",
    "    plt.ylabel('Accuracy')\n",
    "    plt.title('Model - Accuracy')\n",
    "    plt.legend(['Training', 'Validation'], loc='lower right')\n",
    "    plt.show()\n",
    "    \n",
    "    fig2, ax_loss = plt.subplots()\n",
    "    plt.xlabel('Epoch')\n",
    "    plt.ylabel('Loss')\n",
    "    plt.title('Model- Loss')\n",
    "    plt.legend(['Training', 'Validation'], loc='upper right')\n",
    "    plt.plot(history.history['loss'])\n",
    "    plt.plot(history.history['val_loss'])\n",
    "    plt.show()\n",
    "    target_names=['0','1','2','3','4']\n",
    "    \n",
    "    y_true=[]\n",
    "    for element in y_test:\n",
    "        y_true.append(np.argmax(element))\n",
    "    prediction_proba=model.predict(x_test)\n",
    "    prediction=np.argmax(prediction_proba,axis=1)\n",
    "    cnf_matrix = confusion_matrix(y_true, prediction)\n",
    "    "
   ]
  },
  {
   "cell_type": "code",
   "execution_count": 23,
   "id": "17947a63",
   "metadata": {},
   "outputs": [
    {
     "name": "stdout",
     "output_type": "stream",
     "text": [
      "Epoch 1/40\n",
      "3125/3125 [==============================] - 72s 22ms/step - loss: 0.1863 - accuracy: 0.9331 - val_loss: 0.2341 - val_accuracy: 0.9229\n",
      "Epoch 2/40\n",
      "3125/3125 [==============================] - 72s 23ms/step - loss: 0.0727 - accuracy: 0.9747 - val_loss: 0.1553 - val_accuracy: 0.9549\n",
      "Epoch 3/40\n",
      "3125/3125 [==============================] - 79s 25ms/step - loss: 0.0484 - accuracy: 0.9836 - val_loss: 0.1523 - val_accuracy: 0.9540\n",
      "Epoch 4/40\n",
      "3125/3125 [==============================] - 80s 25ms/step - loss: 0.0372 - accuracy: 0.9875 - val_loss: 0.1979 - val_accuracy: 0.9495\n",
      "Epoch 5/40\n",
      "3125/3125 [==============================] - 74s 24ms/step - loss: 0.0286 - accuracy: 0.9906 - val_loss: 0.1260 - val_accuracy: 0.9714\n",
      "Epoch 6/40\n",
      "3125/3125 [==============================] - 80s 26ms/step - loss: 0.0255 - accuracy: 0.9922 - val_loss: 0.1377 - val_accuracy: 0.9644\n",
      "Epoch 7/40\n",
      "3125/3125 [==============================] - 82s 26ms/step - loss: 0.0196 - accuracy: 0.9938 - val_loss: 0.1613 - val_accuracy: 0.9624\n",
      "Epoch 8/40\n",
      "3125/3125 [==============================] - 82s 26ms/step - loss: 0.0183 - accuracy: 0.9942 - val_loss: 0.1294 - val_accuracy: 0.9778\n",
      "Epoch 9/40\n",
      "3125/3125 [==============================] - 88s 28ms/step - loss: 0.0164 - accuracy: 0.9948 - val_loss: 0.1420 - val_accuracy: 0.9748\n",
      "Epoch 10/40\n",
      "3125/3125 [==============================] - 84s 27ms/step - loss: 0.0143 - accuracy: 0.9956 - val_loss: 0.1379 - val_accuracy: 0.9764\n",
      "Epoch 11/40\n",
      "3125/3125 [==============================] - 80s 26ms/step - loss: 0.0134 - accuracy: 0.9959 - val_loss: 0.1244 - val_accuracy: 0.9799\n",
      "Epoch 12/40\n",
      "3125/3125 [==============================] - 78s 25ms/step - loss: 0.0114 - accuracy: 0.9964 - val_loss: 0.1950 - val_accuracy: 0.9654\n",
      "Epoch 13/40\n",
      "3125/3125 [==============================] - 84s 27ms/step - loss: 0.0105 - accuracy: 0.9968 - val_loss: 0.1350 - val_accuracy: 0.9769\n",
      "Epoch 14/40\n",
      "3125/3125 [==============================] - 82s 26ms/step - loss: 0.0108 - accuracy: 0.9967 - val_loss: 0.1664 - val_accuracy: 0.9702\n",
      "Epoch 15/40\n",
      "3125/3125 [==============================] - 85s 27ms/step - loss: 0.0089 - accuracy: 0.9973 - val_loss: 0.1680 - val_accuracy: 0.9739\n",
      "Epoch 16/40\n",
      "3125/3125 [==============================] - 87s 28ms/step - loss: 0.0093 - accuracy: 0.9973 - val_loss: 0.1713 - val_accuracy: 0.9737\n",
      "Epoch 17/40\n",
      "3125/3125 [==============================] - 83s 27ms/step - loss: 0.0089 - accuracy: 0.9972 - val_loss: 0.1542 - val_accuracy: 0.9795\n",
      "Epoch 18/40\n",
      "3125/3125 [==============================] - 83s 26ms/step - loss: 0.0071 - accuracy: 0.9980 - val_loss: 0.2502 - val_accuracy: 0.9627\n",
      "Epoch 19/40\n",
      "3125/3125 [==============================] - 77s 25ms/step - loss: 0.0075 - accuracy: 0.9978 - val_loss: 0.2401 - val_accuracy: 0.9665\n"
     ]
    }
   ],
   "source": [
    "from keras.layers import Dense, Convolution1D, MaxPool1D, Flatten, Dropout\n",
    "from keras.layers import Input\n",
    "from keras.models import Model\n",
    "from tensorflow.keras.layers import BatchNormalization\n",
    "import keras\n",
    "from keras.callbacks import EarlyStopping, ModelCheckpoint\n",
    "\n",
    "model,history=network(x_train,y_train,x_test,y_test)"
   ]
  },
  {
   "cell_type": "code",
   "execution_count": 24,
   "id": "47176b6c",
   "metadata": {},
   "outputs": [
    {
     "name": "stdout",
     "output_type": "stream",
     "text": [
      "Accuracy: 97.99%\n",
      "<keras.callbacks.History object at 0x00000246954F4C70>\n"
     ]
    },
    {
     "data": {
      "image/png": "[encoded data removed]",
      "text/plain": [
       "<Figure size 432x288 with 1 Axes>"
      ]
     },
     "metadata": {
      "needs_background": "light"
     },
     "output_type": "display_data"
    },
    {
     "data": {
      "image/png": "[encoded data removed]",
      "text/plain": [
       "<Figure size 432x288 with 1 Axes>"
      ]
     },
     "metadata": {
      "needs_background": "light"
     },
     "output_type": "display_data"
    },
    {
     "name": "stdout",
     "output_type": "stream",
     "text": [
      "685/685 [==============================] - 9s 8ms/step\n",
      "685/685 [==============================] - 6s 9ms/step\n"
     ]
    }
   ],
   "source": [
    "evaluate_model(history,x_test,y_test,model)\n",
    "y_pred=model.predict(x_test)"
   ]
  },
  {
   "cell_type": "code",
   "execution_count": 25,
   "id": "cedc6c84",
   "metadata": {},
   "outputs": [
    {
     "name": "stdout",
     "output_type": "stream",
     "text": [
      "Normalized confusion matrix\n"
     ]
    },
    {
     "data": {
      "image/png": "[encoded data removed]",
      "text/plain": [
       "<Figure size 720x360 with 2 Axes>"
      ]
     },
     "metadata": {
      "needs_background": "light"
     },
     "output_type": "display_data"
    }
   ],
   "source": [
    "import itertools\n",
    "def plot_confusion_matrix(cm, classes,\n",
    "                          normalize=False,\n",
    "                          title='Confusion matrix',\n",
    "                          cmap=plt.cm.Blues):\n",
    "    \"\"\"\n",
    "    This function prints and plots the confusion matrix.\n",
    "    Normalization can be applied by setting `normalize=True`.\n",
    "    \"\"\"\n",
    "    if normalize:\n",
    "        cm = cm.astype('float') / cm.sum(axis=1)[:, np.newaxis]\n",
    "        print(\"Normalized confusion matrix\")\n",
    "    else:\n",
    "        print('Confusion matrix, without normalization')\n",
    "\n",
    "    plt.imshow(cm, interpolation='nearest', cmap=cmap)\n",
    "    plt.title(title)\n",
    "    plt.colorbar()\n",
    "    tick_marks = np.arange(len(classes))\n",
    "    plt.xticks(tick_marks, classes, rotation=45)\n",
    "    plt.yticks(tick_marks, classes)\n",
    "    \n",
    "    fmt = '.2f' if normalize else 'd'\n",
    "    thresh = cm.max() / 2.\n",
    "    for i, j in itertools.product(range(cm.shape[0]), range(cm.shape[1])):\n",
    "        plt.text(j, i, format(cm[i, j], fmt),\n",
    "                 horizontalalignment=\"center\",\n",
    "                 color=\"white\" if cm[i, j] > thresh else \"black\")\n",
    "\n",
    "    plt.tight_layout()\n",
    "    plt.ylabel('True label')\n",
    "    plt.xlabel('Predicted label')\n",
    "\n",
    "# Compute confusion matrix\n",
    "cnf_matrix = confusion_matrix(y_test.argmax(axis=1), y_pred.argmax(axis=1))\n",
    "np.set_printoptions(precision=2)\n",
    "\n",
    "# Plot non-normalized confusion matrix\n",
    "plt.figure(figsize=(10, 5))\n",
    "plot_confusion_matrix(cnf_matrix, classes=['N', 'S', 'V', 'F', 'Q'],normalize=True,\n",
    "                      title='Confusion matrix, with normalization')\n",
    "plt.show()"
   ]
  },
  {
   "cell_type": "markdown",
   "id": "27aaf732",
   "metadata": {},
   "source": [
    "## Conversion to C code"
   ]
  },
  {
   "cell_type": "code",
   "execution_count": 26,
   "id": "beb8ca54",
   "metadata": {},
   "outputs": [
    {
     "name": "stdout",
     "output_type": "stream",
     "text": [
      "Requirement already satisfied: micromlgen in c:\\users\\dell\\anaconda3\\lib\\site-packages (1.1.28)\n",
      "Requirement already satisfied: jinja2 in c:\\users\\dell\\anaconda3\\lib\\site-packages (from micromlgen) (2.11.3)\n",
      "Requirement already satisfied: MarkupSafe>=0.23 in c:\\users\\dell\\anaconda3\\lib\\site-packages (from jinja2->micromlgen) (1.1.1)\n"
     ]
    }
   ],
   "source": [
    "# installing the conversion library\n",
    "!pip install micromlgen"
   ]
  },
  {
   "cell_type": "code",
   "execution_count": 27,
   "id": "1280bd57",
   "metadata": {},
   "outputs": [],
   "source": [
    "#import the library\n",
    "from micromlgen import port"
   ]
  },
  {
   "cell_type": "code",
   "execution_count": 28,
   "id": "f763f531",
   "metadata": {},
   "outputs": [
    {
     "name": "stdout",
     "output_type": "stream",
     "text": [
      "{0: 'N'}\n",
      "{0: 'N', 1: 'S'}\n",
      "{0: 'N', 1: 'S', 2: 'V'}\n",
      "{0: 'N', 1: 'S', 2: 'V', 3: 'F'}\n",
      "{0: 'N', 1: 'S', 2: 'V', 3: 'F', 4: 'Q'}\n"
     ]
    }
   ],
   "source": [
    "# create a class mapping between labels and classes\n",
    "labels=['N', 'S', 'V', 'F', 'Q']\n",
    "classMap={} #create an empty dictionary\n",
    "for i, label in zip(range(5),labels): #iterate over the range and labels at the same time\n",
    "    classMap[i]=label  #filling the dictionary\n",
    "\n",
    "    print(classMap)"
   ]
  },
  {
   "cell_type": "markdown",
   "id": "5d59b77b",
   "metadata": {},
   "source": [
    "### Convert the model"
   ]
  },
  {
   "cell_type": "code",
   "execution_count": 29,
   "id": "228e5dda",
   "metadata": {},
   "outputs": [
    {
     "ename": "TypeError",
     "evalue": "clf MUST be one of SVC, OneClassSVM, RVC, SEFR, DecisionTreeClassifier, DecisionTreeRegressor, RandomForestClassifier, RandomForestRegressor, GaussianNB, LogisticRegression, PCA, PrincipalFFT, LinearRegression, XGBClassifier",
     "output_type": "error",
     "traceback": [
      "\u001b[1;31m---------------------------------------------------------------------------\u001b[0m",
      "\u001b[1;31mTypeError\u001b[0m                                 Traceback (most recent call last)",
      "\u001b[1;32m<ipython-input-29-cb8fecfa7d74>\u001b[0m in \u001b[0;36m<module>\u001b[1;34m\u001b[0m\n\u001b[1;32m----> 1\u001b[1;33m \u001b[0mc_code\u001b[0m\u001b[1;33m=\u001b[0m\u001b[0mport\u001b[0m\u001b[1;33m(\u001b[0m\u001b[0mmodel\u001b[0m\u001b[1;33m,\u001b[0m\u001b[0mclassmap\u001b[0m\u001b[1;33m=\u001b[0m\u001b[0mclassMap\u001b[0m\u001b[1;33m)\u001b[0m\u001b[1;33m\u001b[0m\u001b[1;33m\u001b[0m\u001b[0m\n\u001b[0m\u001b[0;32m      2\u001b[0m \u001b[1;33m\u001b[0m\u001b[0m\n\u001b[0;32m      3\u001b[0m \u001b[1;31m#write into .h file\u001b[0m\u001b[1;33m\u001b[0m\u001b[1;33m\u001b[0m\u001b[1;33m\u001b[0m\u001b[0m\n\u001b[0;32m      4\u001b[0m \u001b[0mmodelFile\u001b[0m\u001b[1;33m=\u001b[0m\u001b[0mopen\u001b[0m\u001b[1;33m(\u001b[0m\u001b[1;34m\"best_model.h5\"\u001b[0m\u001b[1;33m,\u001b[0m\u001b[1;34m\"w\"\u001b[0m\u001b[1;33m)\u001b[0m\u001b[1;33m\u001b[0m\u001b[1;33m\u001b[0m\u001b[0m\n\u001b[0;32m      5\u001b[0m \u001b[0mmodelFile\u001b[0m\u001b[1;33m.\u001b[0m\u001b[0mwrite\u001b[0m\u001b[1;33m(\u001b[0m\u001b[0mc_code\u001b[0m\u001b[1;33m)\u001b[0m\u001b[1;33m\u001b[0m\u001b[1;33m\u001b[0m\u001b[0m\n",
      "\u001b[1;32m~\\anaconda3\\lib\\site-packages\\micromlgen\\micromlgen.py\u001b[0m in \u001b[0;36mport\u001b[1;34m(clf, classname, classmap, platform, precision, **kwargs)\u001b[0m\n\u001b[0;32m     51\u001b[0m     \u001b[1;32melif\u001b[0m \u001b[0mis_randomforest_regressor\u001b[0m\u001b[1;33m(\u001b[0m\u001b[0mclf\u001b[0m\u001b[1;33m)\u001b[0m\u001b[1;33m:\u001b[0m\u001b[1;33m\u001b[0m\u001b[1;33m\u001b[0m\u001b[0m\n\u001b[0;32m     52\u001b[0m         \u001b[1;32mreturn\u001b[0m \u001b[0mport_randomforest_regressor\u001b[0m\u001b[1;33m(\u001b[0m\u001b[1;33m**\u001b[0m\u001b[0mlocals\u001b[0m\u001b[1;33m(\u001b[0m\u001b[1;33m)\u001b[0m\u001b[1;33m,\u001b[0m \u001b[1;33m**\u001b[0m\u001b[0mkwargs\u001b[0m\u001b[1;33m)\u001b[0m\u001b[1;33m\u001b[0m\u001b[1;33m\u001b[0m\u001b[0m\n\u001b[1;32m---> 53\u001b[1;33m     \u001b[1;32mraise\u001b[0m \u001b[0mTypeError\u001b[0m\u001b[1;33m(\u001b[0m\u001b[1;34m'clf MUST be one of %s'\u001b[0m \u001b[1;33m%\u001b[0m \u001b[1;34m', '\u001b[0m\u001b[1;33m.\u001b[0m\u001b[0mjoin\u001b[0m\u001b[1;33m(\u001b[0m\u001b[0mplatforms\u001b[0m\u001b[1;33m.\u001b[0m\u001b[0mALLOWED_CLASSIFIERS\u001b[0m\u001b[1;33m)\u001b[0m\u001b[1;33m)\u001b[0m\u001b[1;33m\u001b[0m\u001b[1;33m\u001b[0m\u001b[0m\n\u001b[0m",
      "\u001b[1;31mTypeError\u001b[0m: clf MUST be one of SVC, OneClassSVM, RVC, SEFR, DecisionTreeClassifier, DecisionTreeRegressor, RandomForestClassifier, RandomForestRegressor, GaussianNB, LogisticRegression, PCA, PrincipalFFT, LinearRegression, XGBClassifier"
     ]
    }
   ],
   "source": [
    "\n",
    "c_code=port(model,classmap=classMap)\n",
    "\n",
    "#write into .h file\n",
    "modelFile=open(\"best_model.h5\",\"w\")\n",
    "modelFile.write(c_code)\n",
    "modelFile.close()\n",
    "\n",
    "#print the size of the .h file\n",
    "import os\n",
    "model_h_size=os.path.getsize(\"best_model.h5\")\n",
    "print(\"Header file, model.h5, is bytes.\")\n",
    "print(model_h_size)\n",
    "print(\"\\nOpen the side panel (refresh if needed). Double click the best_model.h5 to download\")\n"
   ]
  },
  {
   "cell_type": "code",
   "execution_count": null,
   "id": "147f52a8",
   "metadata": {},
   "outputs": [],
   "source": []
  }
 ],
 "metadata": {
  "kernelspec": {
   "display_name": "Python 3",
   "language": "python",
   "name": "python3"
  },
  "language_info": {
   "codemirror_mode": {
    "name": "ipython",
    "version": 3
   },
   "file_extension": ".py",
   "mimetype": "text/x-python",
   "name": "python",
   "nbconvert_exporter": "python",
   "pygments_lexer": "ipython3",
   "version": "3.8.8"
  }
 },
 "nbformat": 4,
 "nbformat_minor": 5
}
